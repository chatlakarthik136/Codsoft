{
 "cells": [
  {
   "cell_type": "code",
   "execution_count": 4,
   "metadata": {},
   "outputs": [
    {
     "name": "stdout",
     "output_type": "stream",
     "text": [
      "The result is:  30.25\n"
     ]
    }
   ],
   "source": [
    "def calculator():\n",
    "    def add(a,b):\n",
    "        return a+b\n",
    "    def sub(a,b):\n",
    "        return a-b\n",
    "    def mul(a,b):\n",
    "        return a*b\n",
    "    def div(a,b):\n",
    "        if b==0:\n",
    "            return \"Error Division by zero is Not allowed\"\n",
    "        return a/b\n",
    "    def floordiv(a,b):\n",
    "        if b==0:\n",
    "            return \"Error Division by zero is Not allowed\"\n",
    "        return a//b\n",
    "    def mod(a,b):\n",
    "        if b==0:\n",
    "            return \"Error Division by zero is Not allowed\"\n",
    "        return a%b\n",
    "    operations={\n",
    "        \"+\":add,\n",
    "        \"-\":sub,\n",
    "        \"*\":mul,\n",
    "        \"/\":div,\n",
    "        \"//\":floordiv,\n",
    "        \"%\":mod,\n",
    "    }\n",
    "    try:\n",
    "        a=float(input(\"Enter the value of num1:\"))\n",
    "        b=float(input(\"Enter the value of num2:\"))\n",
    "        operation=input(\"Choose an operator (+,-,*,/,//,%,) to calculate:\")\n",
    "        if operation in operations:\n",
    "            result=operations[operation](a,b)\n",
    "            print(\"The result is: \", result)\n",
    "        else:\n",
    "            print(\"Invalid operator selected!!\")\n",
    "    except ValueError:\n",
    "        print(\"Error: Invalid Input. Please enter a valid input\")\n",
    "calculator()"
   ]
  },
  {
   "cell_type": "code",
   "execution_count": null,
   "metadata": {},
   "outputs": [],
   "source": []
  }
 ],
 "metadata": {
  "kernelspec": {
   "display_name": "Python 3",
   "language": "python",
   "name": "python3"
  },
  "language_info": {
   "codemirror_mode": {
    "name": "ipython",
    "version": 3
   },
   "file_extension": ".py",
   "mimetype": "text/x-python",
   "name": "python",
   "nbconvert_exporter": "python",
   "pygments_lexer": "ipython3",
   "version": "3.12.4"
  }
 },
 "nbformat": 4,
 "nbformat_minor": 2
}
