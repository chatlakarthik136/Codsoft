{
 "cells": [
  {
   "cell_type": "code",
   "execution_count": 17,
   "metadata": {},
   "outputs": [
    {
     "name": "stdout",
     "output_type": "stream",
     "text": [
      "Welcome to Password Generator!!\n",
      "Password Length must be more than 8 characters\n",
      "Input is not valid enter a valid input\n",
      "Your Password is:  L2sC0biI\"<\n"
     ]
    }
   ],
   "source": [
    "import random\n",
    "import string\n",
    "def password(n):\n",
    "    characters = string.ascii_letters + string.digits + string.punctuation\n",
    "    password = ''.join(random.choice(characters) for i in range(n))\n",
    "    return password\n",
    "def get_input():\n",
    "    while True:\n",
    "        try:\n",
    "            n=int(input(\"Enter the length of your password: \"))\n",
    "            if n<8:\n",
    "                print(\"Password Length must be more than 8 characters\")\n",
    "            else:\n",
    "                return n\n",
    "        except ValueError:\n",
    "            print(\"Input is not valid enter a valid input\")\n",
    "def main():\n",
    "    print(\"Welcome to Password Generator!!\")\n",
    "    n=get_input()\n",
    "    Password=password(n)\n",
    "    print(f\"Your Password is: \",Password)\n",
    "if __name__ == \"__main__\":\n",
    "    main()"
   ]
  },
  {
   "cell_type": "code",
   "execution_count": null,
   "metadata": {},
   "outputs": [],
   "source": []
  }
 ],
 "metadata": {
  "kernelspec": {
   "display_name": "Python 3",
   "language": "python",
   "name": "python3"
  },
  "language_info": {
   "codemirror_mode": {
    "name": "ipython",
    "version": 3
   },
   "file_extension": ".py",
   "mimetype": "text/x-python",
   "name": "python",
   "nbconvert_exporter": "python",
   "pygments_lexer": "ipython3",
   "version": "3.12.4"
  }
 },
 "nbformat": 4,
 "nbformat_minor": 2
}
